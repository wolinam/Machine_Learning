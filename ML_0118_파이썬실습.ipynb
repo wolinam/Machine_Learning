{
 "cells": [
  {
   "cell_type": "markdown",
   "metadata": {},
   "source": [
    "# 머신러닝 동계 강좌\n",
    "\n",
    "#### 단축키 shift enter\n",
    "* markdown 하고 싶을 때 ctrl+M하고 M누르기\n",
    "* markdown을 코딩 셀로 바꾸고 싶을 때는 Y\n",
    "* ctrl+M -> X : cut cell\n",
    "* ctrl+M -> C : copy cell\n",
    "* ctrl+M -> shift + V : paste cell above\n",
    "\n",
    "#### 주피터 노트북 업데이트\n",
    "* apt-get update && apt-get upgrade\n",
    "\n",
    "#### 개발관련 패키지 설치\n",
    "* apt-get -y install python3.6\n",
    "* apt-get -y install python-pip\n",
    "* apt-get -y install pythion-dev\n",
    "\n",
    "#### 설치 되었는지 확인\n",
    "* python --version\n",
    "\n",
    "#### pip upgrade\n",
    "* pip install --upgrade pip\n",
    "* pip install jupyter\n",
    "\n",
    "#### 실행 명령어 jupyter notebook"
   ]
  },
  {
   "cell_type": "code",
   "execution_count": 21,
   "metadata": {},
   "outputs": [
    {
     "name": "stdout",
     "output_type": "stream",
     "text": [
      "1\n"
     ]
    }
   ],
   "source": [
    "a = 1\n",
    "print(a)"
   ]
  },
  {
   "cell_type": "code",
   "execution_count": 22,
   "metadata": {},
   "outputs": [
    {
     "name": "stdout",
     "output_type": "stream",
     "text": [
      "Hello world\n"
     ]
    }
   ],
   "source": [
    "b = \"Hello world\"\n",
    "print(b)"
   ]
  },
  {
   "cell_type": "code",
   "execution_count": 23,
   "metadata": {},
   "outputs": [
    {
     "data": {
      "text/plain": [
       "[1, 2, 3, 4, 5]"
      ]
     },
     "execution_count": 23,
     "metadata": {},
     "output_type": "execute_result"
    }
   ],
   "source": [
    "c = [1,2,3,4,5]\n",
    "c"
   ]
  },
  {
   "cell_type": "code",
   "execution_count": 24,
   "metadata": {},
   "outputs": [
    {
     "data": {
      "text/plain": [
       "8"
      ]
     },
     "execution_count": 24,
     "metadata": {},
     "output_type": "execute_result"
    }
   ],
   "source": [
    "a=3;b=5\n",
    "a+b"
   ]
  },
  {
   "cell_type": "code",
   "execution_count": 25,
   "metadata": {},
   "outputs": [
    {
     "data": {
      "text/plain": [
       "int"
      ]
     },
     "execution_count": 25,
     "metadata": {},
     "output_type": "execute_result"
    }
   ],
   "source": [
    "type(a)"
   ]
  },
  {
   "cell_type": "code",
   "execution_count": 26,
   "metadata": {},
   "outputs": [
    {
     "data": {
      "text/plain": [
       "list"
      ]
     },
     "execution_count": 26,
     "metadata": {},
     "output_type": "execute_result"
    }
   ],
   "source": [
    "type(c)"
   ]
  },
  {
   "cell_type": "code",
   "execution_count": 27,
   "metadata": {},
   "outputs": [
    {
     "name": "stdout",
     "output_type": "stream",
     "text": [
      "[1, 2, 3, 4, 5]\n",
      "1\n"
     ]
    },
    {
     "data": {
      "text/plain": [
       "5"
      ]
     },
     "execution_count": 27,
     "metadata": {},
     "output_type": "execute_result"
    }
   ],
   "source": [
    "print(c)\n",
    "print(c[0]) # list 의 첫 원소는 [] 안에 숫자 0 을 적어 선택합니다. \n",
    "c[4] # list 의 마지막 원소는 [] 안에 list 의 크기를 -1 한 숫자를 적어 선택합니다.\n",
    "# list 의 시작이 0 번 부터 이기 때문 입니다. "
   ]
  },
  {
   "cell_type": "code",
   "execution_count": 28,
   "metadata": {},
   "outputs": [
    {
     "name": "stdout",
     "output_type": "stream",
     "text": [
      "(1, 2, 3)\n"
     ]
    },
    {
     "data": {
      "text/plain": [
       "tuple"
      ]
     },
     "execution_count": 28,
     "metadata": {},
     "output_type": "execute_result"
    }
   ],
   "source": [
    "d = (1,2,3) # 소괄호 ()  를 사용한 list 와 유사한 것은 튜플(tuple)이라고 합니다. \n",
    "print(d)\n",
    "type(d)"
   ]
  },
  {
   "cell_type": "code",
   "execution_count": 29,
   "metadata": {},
   "outputs": [
    {
     "data": {
      "text/plain": [
       "3"
      ]
     },
     "execution_count": 29,
     "metadata": {},
     "output_type": "execute_result"
    }
   ],
   "source": [
    "d[2] # tuple 도 list 와 원소 선택은 동일 합니다.\n",
    "# d[0] = 9 # 옆에 구문의 주석 처리인 첫 글자 # 을 지우고 실행하면 에러가 납니다.\n",
    "# 이는 tuple 은 읽기만 가능하기 때문 입니다. "
   ]
  },
  {
   "cell_type": "code",
   "execution_count": 30,
   "metadata": {},
   "outputs": [
    {
     "data": {
      "text/plain": [
       "dict"
      ]
     },
     "execution_count": 30,
     "metadata": {},
     "output_type": "execute_result"
    }
   ],
   "source": [
    "e = {} # 중괄호 {} 를 사용한 것은 딕셔너리(dictionary)이라고 합니다.\n",
    "type(e)# 키(key)와 밸류(value)로 짝지어진 값을 갖습니다. "
   ]
  },
  {
   "cell_type": "code",
   "execution_count": 31,
   "metadata": {},
   "outputs": [
    {
     "data": {
      "text/plain": [
       "'sun'"
      ]
     },
     "execution_count": 31,
     "metadata": {},
     "output_type": "execute_result"
    }
   ],
   "source": [
    "e ={1:\"sun\", 2:\"moon\"} # 쉼표 , 로 값을 분리 하며 개별 값은 : 의 왼쪽이 key 가 됩니다.\n",
    "e[1] # list와 dictionary 와 는 달리 key 값을 입력 함으로써 값을 선택 할 수 있습니다. "
   ]
  },
  {
   "cell_type": "code",
   "execution_count": 32,
   "metadata": {},
   "outputs": [
    {
     "data": {
      "text/plain": [
       "90"
      ]
     },
     "execution_count": 32,
     "metadata": {},
     "output_type": "execute_result"
    }
   ],
   "source": [
    "import math # 모듈을 불러와 확장된 기능을 활용가능합니다. \n",
    "math.floor(90.72) # 예를 들어 전문적인 수학 함수를 사용하고 싶으면 math 모듈을 불러옵니다."
   ]
  },
  {
   "cell_type": "code",
   "execution_count": 33,
   "metadata": {},
   "outputs": [
    {
     "data": {
      "text/plain": [
       "3.0"
      ]
     },
     "execution_count": 33,
     "metadata": {},
     "output_type": "execute_result"
    }
   ],
   "source": [
    "from math import sqrt # 모듈로 부터 개별 객체 생성되 가능합니다. \n",
    "sqrt(9)# 스퀘어 루트(제곱근)을 구해 봅니다."
   ]
  },
  {
   "cell_type": "code",
   "execution_count": 34,
   "metadata": {},
   "outputs": [
    {
     "name": "stdout",
     "output_type": "stream",
     "text": [
      "number :356\n",
      "<class 'str'>\n",
      "357\n"
     ]
    }
   ],
   "source": [
    "a=input('number :') # input 을 사용하여 입력을 받는 방법 입니다.  \n",
    "print(type(a)) # 기본 입력된 값은 str 형 입니다. \n",
    "a=int(a) # 연산에 활용하기 위해서 형을 int 로 변환 합니다. \n",
    "a = a + 1 # int 변경 된 a 변수는 덧셈 등의 수치 연산에 활용이 가능해졌습니다. \n",
    "type(a) # 변환 된 후 타입을 출력해보면 int 로 바뀌어 있습니다.\n",
    "print(a)"
   ]
  },
  {
   "cell_type": "code",
   "execution_count": 35,
   "metadata": {},
   "outputs": [
    {
     "name": "stdout",
     "output_type": "stream",
     "text": [
      "PassWord: ari3545\n",
      "Correct!\n"
     ]
    }
   ],
   "source": [
    "pw = input('PassWord: ') # if 문\n",
    "\n",
    "if pw == 'ari3545': # 끝에 : 을 빼먹지 않도록 주의 합니다.        \n",
    "    print ('Correct!') #같으면 실행합니다.\n",
    "else:                       \n",
    "    print ('Try again...') #아닌 경우 실행합니다."
   ]
  },
  {
   "cell_type": "code",
   "execution_count": 36,
   "metadata": {},
   "outputs": [
    {
     "name": "stdout",
     "output_type": "stream",
     "text": [
      "0 Hi ~\n",
      "1 Hi ~\n",
      "2 Hi ~\n",
      "3 Hi ~\n",
      "4 Hi ~\n"
     ]
    }
   ],
   "source": [
    "for i in range(5): # 간단한 for 문의 사례 입니다. \n",
    "    print (i, 'Hi ~')"
   ]
  },
  {
   "cell_type": "code",
   "execution_count": 37,
   "metadata": {},
   "outputs": [
    {
     "name": "stdout",
     "output_type": "stream",
     "text": [
      "0\n",
      "1\n",
      "2\n"
     ]
    }
   ],
   "source": [
    "for k in range(5): # break 구문 예제 입니다. \n",
    "    if k==3:\n",
    "        break # k 변수의 값이 3 이되면 아직 수행 횟수가 남았으나 루프를 빠져 나갑니다.\n",
    "    print (k)"
   ]
  },
  {
   "cell_type": "code",
   "execution_count": 38,
   "metadata": {},
   "outputs": [
    {
     "name": "stdout",
     "output_type": "stream",
     "text": [
      "0\n",
      "1\n",
      "3\n",
      "4\n"
     ]
    }
   ],
   "source": [
    "for k in range(5): # continue 구문 예제 입니다.\n",
    "    if k==2:\n",
    "        continue # k변수의 값이 2일 경우, 딱 1회만 루프 실행을 멈추고 나머지는 수행합니다. \n",
    "    print (k)"
   ]
  },
  {
   "cell_type": "code",
   "execution_count": 39,
   "metadata": {},
   "outputs": [
    {
     "name": "stdout",
     "output_type": "stream",
     "text": [
      "0\n",
      "1\n",
      "2\n",
      "0\n",
      "1\n",
      "2\n"
     ]
    }
   ],
   "source": [
    "for k in range(3):\n",
    "    print (k)\n",
    "    \n",
    "k = 0 # 위의 for 문과 동일한 동작을 하는 while 문입니다.\n",
    "while k<3 :\n",
    "    print (k)\n",
    "    k = k+1 # 초기값, 종료조건, 루프회전 마다 반복되는 구문의 차이를 살펴보시기 바랍니다. "
   ]
  },
  {
   "cell_type": "code",
   "execution_count": 40,
   "metadata": {},
   "outputs": [
    {
     "name": "stdout",
     "output_type": "stream",
     "text": [
      "123123123\n",
      "<_io.TextIOWrapper name='test.txt' mode='r' encoding='cp949'>\n"
     ]
    }
   ],
   "source": [
    "fw = open('test.txt', 'w') # 지정된 경로에 파일을 쓰기 가능 설정으로 엽니다.\n",
    "fw.write('123123123') # 파일에 내용을 저장합니다. \n",
    "fw.close() # 사용이 끝난 파일을 닫습니다. \n",
    "\n",
    "fr = open('test.txt', 'r') # 파일을 읽기 전용으로 엽니다.\n",
    "print(fr.read()) # 파일의 내용을 읽고 이를 화면에 출력 합니다. \n",
    "print(fr) # 파일 객체를 직접 출력하면 파일의 설명이 나옵니다. \n",
    "fr.close() "
   ]
  }
 ],
 "metadata": {
  "kernelspec": {
   "display_name": "Python 3",
   "language": "python",
   "name": "python3"
  },
  "language_info": {
   "codemirror_mode": {
    "name": "ipython",
    "version": 3
   },
   "file_extension": ".py",
   "mimetype": "text/x-python",
   "name": "python",
   "nbconvert_exporter": "python",
   "pygments_lexer": "ipython3",
   "version": "3.7.6"
  }
 },
 "nbformat": 4,
 "nbformat_minor": 4
}
